{
 "cells": [
  {
   "cell_type": "code",
   "execution_count": 2,
   "metadata": {
    "collapsed": true
   },
   "outputs": [],
   "source": [
    "import datetime as dt\n",
    "import pandas as pd\n",
    "import numpy as np\n",
    "import seaborn "
   ]
  },
  {
   "cell_type": "code",
   "execution_count": 3,
   "metadata": {
    "collapsed": true
   },
   "outputs": [],
   "source": [
    "data = pd.read_csv(\"training_dataset_enc.csv\", parse_dates=[2,5,6,7])"
   ]
  },
  {
   "cell_type": "code",
   "execution_count": 4,
   "metadata": {
    "collapsed": true
   },
   "outputs": [],
   "source": [
    "for i in range(len(data)):\n",
    "    if data.at[i, 'DATUM_ZATVARANJA'] +  pd.DateOffset(days=10)  <  data.at[i, 'PLANIRANI_DATUM_ZATVARANJA']:\n",
    "        data.at[i, 'PRIJEVREMENI_RASKID'] = 'Y'\n",
    "    else:\n",
    "        data.at[i, 'PRIJEVREMENI_RASKID'] = 'N'"
   ]
  },
  {
   "cell_type": "code",
   "execution_count": 5,
   "metadata": {
    "collapsed": true
   },
   "outputs": [],
   "source": [
    "data = data.drop(['Unnamed: 0', 'Unnamed: 0.1'], axis=1)"
   ]
  },
  {
   "cell_type": "markdown",
   "metadata": {},
   "source": [
    "# Čišćenje podataka  - prva faza\n",
    "Uklanjamo retke koji su potvrđena greška.\n",
    " - planirani datum zatvaranja < datum otvaranja\n",
    " - ugovoreni iznos = 0\n",
    " - retci bez planiranog datuma zatvaranja\n",
    " \n",
    "Rezultat spremamo u  *prva_faza*."
   ]
  },
  {
   "cell_type": "code",
   "execution_count": 6,
   "metadata": {
    "collapsed": true
   },
   "outputs": [],
   "source": [
    "prva_faza = data.drop(data[data['DATUM_OTVARANJA'] > data['PLANIRANI_DATUM_ZATVARANJA']].index)"
   ]
  },
  {
   "cell_type": "code",
   "execution_count": 7,
   "metadata": {
    "collapsed": true
   },
   "outputs": [],
   "source": [
    "prva_faza = prva_faza.drop(prva_faza[prva_faza['UGOVORENI_IZNOS'] == 0].index)"
   ]
  },
  {
   "cell_type": "code",
   "execution_count": 8,
   "metadata": {
    "collapsed": true,
    "scrolled": true
   },
   "outputs": [],
   "source": [
    "prva_faza = prva_faza.loc[pd.isnull(prva_faza['PLANIRANI_DATUM_ZATVARANJA']) == False, :]"
   ]
  },
  {
   "cell_type": "code",
   "execution_count": 9,
   "metadata": {
    "collapsed": true
   },
   "outputs": [],
   "source": [
    "#prva_faza.to_csv('prva_faza.csv')"
   ]
  },
  {
   "cell_type": "markdown",
   "metadata": {},
   "source": [
    "# Čišćenje podataka - druga faza\n",
    "\n",
    " - ostavljamo za svaki ugovor samo jedan izvještaj i to onaj u kojem se prvi put spominje datum zatvaranja ( *druga_faza* )\n",
    " \n",
    " \n",
    "Pažnja na rubne slučajeve, cijeli skup podataka dijelimo u 4 skupine :\n",
    "- zatvoreni ugovori koji su prijevremno otplaćeni (Y)\n",
    "- zatvoreni ugovori koji nisu prijevremeni otplaćeni (N)\n",
    "- ugovori čiji je datum planiranog zatvaranja prošao, ali nisu otplaćeni (N)\n",
    "- ugovori čiji datum planiranog zatvaranja nije prosao i nisu zatvoreni (zapravo ne znamo gdje spadaju)"
   ]
  },
  {
   "cell_type": "code",
   "execution_count": 12,
   "metadata": {
    "collapsed": true
   },
   "outputs": [],
   "source": [
    "#prva_faza = pd.read_csv(\"prva_faza.csv\", parse_dates=[1,4,5,6])"
   ]
  },
  {
   "cell_type": "code",
   "execution_count": 11,
   "metadata": {
    "collapsed": true
   },
   "outputs": [],
   "source": [
    "otplaceni_ugovori = prva_faza.loc[pd.isnull(prva_faza['DATUM_ZATVARANJA']) == False,:]\\\n",
    "            .sort_values(['OZNAKA_PARTIJE', 'DATUM_IZVJESTAVANJA'])"
   ]
  },
  {
   "cell_type": "code",
   "execution_count": 12,
   "metadata": {
    "collapsed": true
   },
   "outputs": [],
   "source": [
    "otplaceni_ugovori = otplaceni_ugovori.groupby('OZNAKA_PARTIJE').head(1)"
   ]
  },
  {
   "cell_type": "code",
   "execution_count": 13,
   "metadata": {
    "collapsed": true
   },
   "outputs": [],
   "source": [
    "svi_ugovori = prva_faza.sort_values(['OZNAKA_PARTIJE', 'DATUM_IZVJESTAVANJA'])\n",
    "svi_ugovori = svi_ugovori.groupby('OZNAKA_PARTIJE')\n",
    "\n",
    "neisplaceni_ugovori = svi_ugovori.filter(lambda x: all(pd.isnull(x['DATUM_ZATVARANJA']) == True))"
   ]
  },
  {
   "cell_type": "code",
   "execution_count": 14,
   "metadata": {
    "collapsed": true
   },
   "outputs": [],
   "source": [
    "neisplaceni_ugovori = neisplaceni_ugovori.groupby('OZNAKA_PARTIJE').tail(1)"
   ]
  },
  {
   "cell_type": "code",
   "execution_count": 15,
   "metadata": {
    "collapsed": true
   },
   "outputs": [],
   "source": [
    "neisplaceni = neisplaceni_ugovori.loc[neisplaceni_ugovori['PLANIRANI_DATUM_ZATVARANJA'] < neisplaceni_ugovori['DATUM_IZVJESTAVANJA'],:]"
   ]
  },
  {
   "cell_type": "code",
   "execution_count": 16,
   "metadata": {
    "collapsed": true
   },
   "outputs": [],
   "source": [
    "druga_faza = pd.concat([otplaceni_ugovori, neisplaceni])"
   ]
  },
  {
   "cell_type": "code",
   "execution_count": 17,
   "metadata": {
    "collapsed": true
   },
   "outputs": [],
   "source": [
    "#druga_faza.to_csv('druga_faza.csv')"
   ]
  },
  {
   "cell_type": "markdown",
   "metadata": {},
   "source": [
    "# Dodavanje featurea"
   ]
  },
  {
   "cell_type": "code",
   "execution_count": 3,
   "metadata": {
    "collapsed": true
   },
   "outputs": [],
   "source": [
    "druga_faza = pd.read_csv('druga_faza.csv', parse_dates=[1,4,5,6])"
   ]
  },
  {
   "cell_type": "markdown",
   "metadata": {},
   "source": [
    "**NADVRSTA** - Nadvrsta klijenata. Podijela na fizicke i pravne osobe."
   ]
  },
  {
   "cell_type": "code",
   "execution_count": 4,
   "metadata": {
    "collapsed": true
   },
   "outputs": [],
   "source": [
    "nadvrsta_dict = {1410:0,1550:0,1610:0,\\\n",
    "                 1420:1, 1430:1, 1120:1, 1510:1, 1110:1, 1320:1, 1330:1, 1350:1,1210:1, 1310:1}\n",
    "druga_faza['NADVRSTA'] = druga_faza['VRSTA_KLIJENTA']\n",
    "druga_faza['NADVRSTA'] = druga_faza['NADVRSTA'].map(nadvrsta_dict)"
   ]
  },
  {
   "cell_type": "markdown",
   "metadata": {},
   "source": [
    "**STAROST** - Popunjavanje nepoznatih vrijednosti godina srednjim vrijednostima za fizicke i pravne osobe."
   ]
  },
  {
   "cell_type": "code",
   "execution_count": 5,
   "metadata": {
    "collapsed": true,
    "scrolled": true
   },
   "outputs": [],
   "source": [
    "import operator\n",
    "\n",
    "druga_faza['STAROST'] = druga_faza['STAROST'].astype('float')\n",
    "for i in range(len(druga_faza)):\n",
    "    if druga_faza.at[i,'STAROST'] < 0 or druga_faza.at[i,'STAROST'] >= 900 :\n",
    "            druga_faza.at[i,'STAROST'] = np.nan\n"
   ]
  },
  {
   "cell_type": "markdown",
   "metadata": {},
   "source": [
    "**MJESECI** - Broj procijenjenih mjeseci potreban za otplatu kredita"
   ]
  },
  {
   "cell_type": "code",
   "execution_count": 6,
   "metadata": {
    "collapsed": true
   },
   "outputs": [],
   "source": [
    "druga_faza['MJESECI'] = 12*(pd.DatetimeIndex(druga_faza['PLANIRANI_DATUM_ZATVARANJA']).year\\\n",
    "                    - pd.DatetimeIndex(druga_faza['DATUM_OTVARANJA']).year)\\\n",
    "                    + (pd.DatetimeIndex(druga_faza['PLANIRANI_DATUM_ZATVARANJA']).month\\\n",
    "                    - pd.DatetimeIndex(druga_faza['DATUM_OTVARANJA']).month)"
   ]
  },
  {
   "cell_type": "markdown",
   "metadata": {},
   "source": [
    "**GDP** - Gdp u trenutku otvaranja ugovora."
   ]
  },
  {
   "cell_type": "code",
   "execution_count": 7,
   "metadata": {
    "collapsed": true
   },
   "outputs": [],
   "source": [
    "gdp = pd.read_csv('GDP_cro.csv')\n",
    "godine = np.array(gdp['GODINA'].values.tolist(), dtype=object)\n",
    "iznos = np.array(gdp['IZNOS'].values.tolist(), dtype=object)\n",
    "gdp_dict = dict(zip(godine, iznos))\n",
    "gdp_dict[2018] = 57777482100\n",
    "druga_faza['GDP_OTV'] = pd.DatetimeIndex(druga_faza['DATUM_OTVARANJA']).year\n",
    "druga_faza['GDP_OTV'] = druga_faza['GDP_OTV'].map(gdp_dict)\n",
    "druga_faza['GDP_ZATV'] = pd.DatetimeIndex(druga_faza['PLANIRANI_DATUM_ZATVARANJA']).year\n",
    "druga_faza['GDP_ZATV'] = druga_faza['GDP_ZATV'].map(gdp_dict)"
   ]
  },
  {
   "cell_type": "code",
   "execution_count": 8,
   "metadata": {
    "collapsed": true
   },
   "outputs": [],
   "source": [
    "druga_faza['GDP_ZATV'] = druga_faza['GDP_ZATV'].replace(np.nan,gdp_dict[2018])"
   ]
  },
  {
   "cell_type": "markdown",
   "metadata": {},
   "source": [
    "**NEZAPOSLENOST** - Nezaposlenost u godini otvaranja ugovora"
   ]
  },
  {
   "cell_type": "code",
   "execution_count": 9,
   "metadata": {
    "collapsed": true
   },
   "outputs": [],
   "source": [
    "nezaposlenost_dict = {1996:10.0,1997:9.9,1998:11.6,1999:18.6,2000:20.6\\\n",
    "                      ,2001:21.5,2002:21.8,2003:19.1,2004:17.8,2005:17.6\\\n",
    "                      ,2006:16.5,2007:14.7,2008:13.0,2009:14.5,2010:17.2\\\n",
    "                      ,2011:17.4,2012:18.6,2013:19.8,2014:19.3,2015:17.1\\\n",
    "                      ,2016:15.0,2017:12.4,2018:10.0}\n",
    "druga_faza['NEZAPOSLENOST_OTV'] = pd.DatetimeIndex(druga_faza['DATUM_OTVARANJA']).year\n",
    "druga_faza['NEZAPOSLENOST_OTV'] = druga_faza['NEZAPOSLENOST_OTV'].map(nezaposlenost_dict)\n",
    "druga_faza['NEZAPOSLENOST_ZATV'] = pd.DatetimeIndex(druga_faza['PLANIRANI_DATUM_ZATVARANJA']).year\n",
    "druga_faza['NEZAPOSLENOST_ZATV'] = druga_faza['NEZAPOSLENOST_ZATV'].map(nezaposlenost_dict)\n",
    "druga_faza['NEZAPOSLENOST_ZATV'] = druga_faza['NEZAPOSLENOST_ZATV'].replace(np.nan,nezaposlenost_dict[2018])"
   ]
  },
  {
   "cell_type": "markdown",
   "metadata": {},
   "source": [
    "**KAMATE** - 0,1 varijable za pripadnu valutu"
   ]
  },
  {
   "cell_type": "code",
   "execution_count": 10,
   "metadata": {
    "collapsed": true
   },
   "outputs": [],
   "source": [
    "druga_faza['TIP_KAMATE'].unique()\n",
    "druga_faza['KAMATA_A'] = druga_faza['TIP_KAMATE'].map({'A': 1, 'B': 0, 'C':0, 'D':0})\n",
    "druga_faza['KAMATA_B'] = druga_faza['TIP_KAMATE'].map({'A': 0, 'B': 1, 'C':0, 'D':0})\n",
    "druga_faza['KAMATA_C'] = druga_faza['TIP_KAMATE'].map({'A': 0, 'B': 0, 'C':1, 'D':0})\n",
    "druga_faza['KAMATA_D'] = druga_faza['TIP_KAMATE'].map({'A': 0, 'B': 0, 'C':0, 'D':1})"
   ]
  },
  {
   "cell_type": "markdown",
   "metadata": {},
   "source": [
    "**FRANAK, EURO, DOLAR** - tečajevi u trenutku otvaranja ugovora"
   ]
  },
  {
   "cell_type": "code",
   "execution_count": 11,
   "metadata": {
    "collapsed": true
   },
   "outputs": [],
   "source": [
    "euro_dict = {1996:6.805527,1997:6.960719,1998:7.139159,1999:7.581823\\\n",
    "             ,2000:7.633852,2001:7.471006,2002:7.406976,2003:7.564248\\\n",
    "             ,2004:7.495680,2005:7.400047,2006:7.322849,2007:7.336019\\\n",
    "             ,2008:7.223178,2009:7.339554,2010:7.286230,2011:7.434204\\\n",
    "             ,2012:7.517340,2013:7.573548,2014:7.630014,2015:7.609601\\\n",
    "             ,2016:7.529383,2017:7.460100,2018:7.414111}\n",
    "franak_dict = {1996:4.407070,1997:4.248502,1998:4.396452,1999:4.739965\\\n",
    "               ,2000:4.903244,2001:4.946810,2002:5.049125,2003:4.978864\\\n",
    "               ,2004:4.854986,2005:4.780586,2006:4.656710,2007:4.468302\\\n",
    "               ,2008:4.553618,2009:4.861337,2010:5.285859,2011:6.035029\\\n",
    "               ,2012:6.237942,2013:6.154290,2014:6.282424,2015:7.133762\\\n",
    "               ,2016:6.907710,2017:6.722335,2018:6.419731}\n",
    "dolar_dict = {1996:5.433979,1997:6.161849,1998:6.362284,1999:7.122027\\\n",
    "              ,2000:8.287369,2001:8.339153,2002:7.872490,2003:6.704449,2004:6.031216,2005:5.949959,2006:5.839170,2007:5.365993,2008:4.934417,2009:5.280370,2010:5.500015,2011:5.343508,2012:5.850861,2013:5.705883,2014:5.749322,2015:6.862262,2016:6.803718,2017:6.622397,2018:6.278406}\n",
    "\n",
    "druga_faza['EURO_OTV'] = pd.DatetimeIndex(druga_faza['DATUM_OTVARANJA']).year\n",
    "druga_faza['EURO_OTV'] = druga_faza['EURO_OTV'] .map(euro_dict)\n",
    "\n",
    "druga_faza['FRANAK_OTV'] = pd.DatetimeIndex(druga_faza['DATUM_OTVARANJA']).year\n",
    "druga_faza['FRANAK_OTV'] = druga_faza['FRANAK_OTV'] .map(franak_dict)\n",
    "\n",
    "druga_faza['DOLAR_OTV'] = pd.DatetimeIndex(druga_faza['DATUM_OTVARANJA']).year\n",
    "druga_faza['DOLAR_OTV'] = druga_faza['DOLAR_OTV'] .map(dolar_dict)\n",
    "\n",
    "\n",
    "druga_faza['EURO_ZATV'] = pd.DatetimeIndex(druga_faza['PLANIRANI_DATUM_ZATVARANJA']).year\n",
    "druga_faza['EURO_ZATV'] = druga_faza['EURO_ZATV'] .map(euro_dict)\n",
    "druga_faza['EURO_ZATV'] = druga_faza['EURO_ZATV'].replace(np.nan,euro_dict[2018])\n",
    "\n",
    "druga_faza['FRANAK_ZATV'] = pd.DatetimeIndex(druga_faza['PLANIRANI_DATUM_ZATVARANJA']).year\n",
    "druga_faza['FRANAK_ZATV'] = druga_faza['FRANAK_ZATV'] .map(franak_dict)\n",
    "druga_faza['FRANAK_ZATV'] = druga_faza['FRANAK_ZATV'].replace(np.nan,franak_dict[2018])\n",
    "\n",
    "druga_faza['DOLAR_ZATV'] = pd.DatetimeIndex(druga_faza['PLANIRANI_DATUM_ZATVARANJA']).year\n",
    "druga_faza['DOLAR_ZATV'] = druga_faza['DOLAR_ZATV'] .map(dolar_dict)\n",
    "druga_faza['DOLAR_ZATV'] = druga_faza['DOLAR_ZATV'].replace(np.nan,dolar_dict[2018])"
   ]
  },
  {
   "cell_type": "markdown",
   "metadata": {},
   "source": [
    "**VALUTA_1,VALUTA_1,VALUTA_1,VALUTA_1,VALUTA_5** - Valuta u kojoj je ugovor otvoren"
   ]
  },
  {
   "cell_type": "code",
   "execution_count": 12,
   "metadata": {
    "collapsed": true
   },
   "outputs": [],
   "source": [
    "druga_faza['VALUTA_1'] = druga_faza['VALUTA'].map({1: 1, 2: 0, 3:0, 4:0, 5:0})\n",
    "druga_faza['VALUTA_2'] = druga_faza['VALUTA'].map({1: 0, 2: 1, 3:0, 4:0, 5:0})\n",
    "druga_faza['VALUTA_3'] = druga_faza['VALUTA'].map({1: 0, 2: 0, 3:1, 4:0, 5:0})\n",
    "druga_faza['VALUTA_4'] = druga_faza['VALUTA'].map({1: 0, 2: 0, 3:0, 4:1, 5:0})\n",
    "druga_faza['VALUTA_5'] = druga_faza['VALUTA'].map({1: 0, 2: 0, 3:0, 4:0, 5:1})"
   ]
  },
  {
   "cell_type": "markdown",
   "metadata": {},
   "source": [
    "**KVADRAT KAMATE**"
   ]
  },
  {
   "cell_type": "code",
   "execution_count": 13,
   "metadata": {
    "collapsed": true
   },
   "outputs": [],
   "source": [
    "druga_faza['KAMATA_KVADART'] =  druga_faza['VISINA_KAMATE'] * druga_faza['VISINA_KAMATE']"
   ]
  },
  {
   "cell_type": "markdown",
   "metadata": {},
   "source": [
    "**KAMATA_IZNOS** - umnožak visine kamate i ugovorenog iznos"
   ]
  },
  {
   "cell_type": "code",
   "execution_count": 14,
   "metadata": {
    "collapsed": true
   },
   "outputs": [],
   "source": [
    "druga_faza['KAMATA_IZNOS'] = druga_faza['UGOVORENI_IZNOS'] * druga_faza['VISINA_KAMATE']"
   ]
  },
  {
   "cell_type": "markdown",
   "metadata": {},
   "source": [
    "**RATA** - mjesečni iznos"
   ]
  },
  {
   "cell_type": "code",
   "execution_count": 15,
   "metadata": {
    "collapsed": true
   },
   "outputs": [],
   "source": [
    "druga_faza['RATA'] = druga_faza['UGOVORENI_IZNOS'] / druga_faza['MJESECI'].replace(0,1)"
   ]
  },
  {
   "cell_type": "markdown",
   "metadata": {},
   "source": [
    "**VRSTA PROIZVODA**"
   ]
  },
  {
   "cell_type": "code",
   "execution_count": 16,
   "metadata": {
    "collapsed": true
   },
   "outputs": [],
   "source": [
    "proizvodi = pd.get_dummies(druga_faza['PROIZVOD'])\n",
    "druga_faza = pd.concat([druga_faza, proizvodi], axis = 1)"
   ]
  },
  {
   "cell_type": "markdown",
   "metadata": {},
   "source": [
    "**GODINA OTVARANJA**"
   ]
  },
  {
   "cell_type": "code",
   "execution_count": 17,
   "metadata": {
    "collapsed": true
   },
   "outputs": [],
   "source": [
    "from numpy import genfromtxt\n",
    "klijenti = genfromtxt('klijenti_history4f.csv', delimiter=',')\n",
    "broj_n = genfromtxt('no_history4f.csv', delimiter=',')\n",
    "broj_y = genfromtxt('yes_history4f.csv', delimiter=',')\n",
    "dict_y = dict(zip(klijenti, broj_y))\n",
    "dict_n = dict(zip(klijenti, broj_n))\n",
    "druga_faza['OTVARANJE'] = pd.DatetimeIndex(druga_faza['DATUM_OTVARANJA']).year"
   ]
  },
  {
   "cell_type": "markdown",
   "metadata": {},
   "source": [
    "**GODINA ZATVARANJA**"
   ]
  },
  {
   "cell_type": "code",
   "execution_count": 18,
   "metadata": {
    "collapsed": true
   },
   "outputs": [],
   "source": [
    "druga_faza['ZATVARANJE'] = pd.DatetimeIndex(druga_faza['PLANIRANI_DATUM_ZATVARANJA']).year"
   ]
  },
  {
   "cell_type": "markdown",
   "metadata": {},
   "source": [
    "**POVIJEST PRIJEVREMENIH** - broj prijevremeno prekinutih ugovora po klijentu"
   ]
  },
  {
   "cell_type": "code",
   "execution_count": 19,
   "metadata": {
    "collapsed": true
   },
   "outputs": [],
   "source": [
    "druga_faza['POVIJEST_PRIJEVREMENIH'] = druga_faza['KLIJENT_ID'].map(dict_y)"
   ]
  },
  {
   "cell_type": "markdown",
   "metadata": {},
   "source": [
    "**POVIJEST NEPRIJEVREMENIH** - broj ugovora po klijentu koji nisu prijevremeno prekinuti"
   ]
  },
  {
   "cell_type": "code",
   "execution_count": 20,
   "metadata": {
    "collapsed": true
   },
   "outputs": [],
   "source": [
    "druga_faza['POVIJEST_NEPRIJEVREMENIH'] = druga_faza['KLIJENT_ID'].map(dict_n)"
   ]
  },
  {
   "cell_type": "markdown",
   "metadata": {},
   "source": [
    "**PROSJECNA PLAĆA**"
   ]
  },
  {
   "cell_type": "code",
   "execution_count": 21,
   "metadata": {
    "collapsed": true
   },
   "outputs": [],
   "source": [
    "place = pd.read_csv('place.csv')\n",
    "dict_place = dict(zip(place['GODINA'], place['PLACA']))\n",
    "druga_faza['AVG_PLACA_OTV'] = druga_faza['OTVARANJE'].map(dict_place)\n",
    "\n",
    "druga_faza['AVG_PLACA_ZATV'] = druga_faza['ZATVARANJE'].map(dict_place)\n",
    "druga_faza['AVG_PLACA_ZATV'] = druga_faza['AVG_PLACA_ZATV'].replace(np.nan,dict_place[2018])"
   ]
  },
  {
   "cell_type": "markdown",
   "metadata": {},
   "source": [
    "**PRICE INDEX**"
   ]
  },
  {
   "cell_type": "code",
   "execution_count": 22,
   "metadata": {
    "collapsed": true
   },
   "outputs": [],
   "source": [
    "price_index = pd.read_csv('Price_index.csv')\n",
    "dict_priceindex = dict(zip(price_index['Year'], price_index['Value']))\n",
    "druga_faza['PRICE_INDEX_OTV'] = druga_faza['OTVARANJE'].map(dict_priceindex)\n",
    "druga_faza['PRICE_INDEX_ZATV'] = druga_faza['ZATVARANJE'].map(dict_priceindex)\n",
    "druga_faza['PRICE_INDEX_ZATV'] = druga_faza['PRICE_INDEX_ZATV'].replace(np.nan,dict_priceindex[2018])"
   ]
  },
  {
   "cell_type": "markdown",
   "metadata": {},
   "source": [
    "**BDP** - bdp po glavi stanovnika"
   ]
  },
  {
   "cell_type": "code",
   "execution_count": 23,
   "metadata": {
    "collapsed": true
   },
   "outputs": [],
   "source": [
    "bdp = pd.read_csv('BDP.csv')\n",
    "dict_bdp = dict(zip(bdp['GODINE'], bdp['GDP']))\n",
    "druga_faza['BDP_OTV'] = druga_faza['OTVARANJE'].map(dict_bdp)\n",
    "druga_faza['BDP_ZATV'] = druga_faza['ZATVARANJE'].map(dict_bdp)\n",
    "druga_faza['BDP_ZATV'] = druga_faza['BDP_ZATV'].replace(np.nan,dict_bdp[2018])"
   ]
  },
  {
   "cell_type": "markdown",
   "metadata": {},
   "source": [
    "**VRSTE KLIJENATA**"
   ]
  },
  {
   "cell_type": "code",
   "execution_count": 24,
   "metadata": {
    "collapsed": true
   },
   "outputs": [],
   "source": [
    "VR_KL = pd.get_dummies(druga_faza.VRSTA_KLIJENTA)\n",
    "druga_faza = pd.concat([druga_faza, VR_KL], axis = 1)\n",
    "druga_faza = druga_faza.rename(index=str, columns={1110: \"a\", 1120: \"b\", 1210: \"c\", 1310: \"d\", 1320: \"e\", 1330: \"f\", 1350: \"g\", 1410: \"h\", 1420: \"i\", 1430: \"j\", 1510: \"k\", 1550: \"l\", 1610: \"m\"})"
   ]
  },
  {
   "cell_type": "markdown",
   "metadata": {},
   "source": [
    "**JEDNODNEVNI UGOVORI**"
   ]
  },
  {
   "cell_type": "code",
   "execution_count": 25,
   "metadata": {
    "collapsed": true
   },
   "outputs": [],
   "source": [
    "jednodnevni  = (druga_faza['PLANIRANI_DATUM_ZATVARANJA'] == druga_faza['DATUM_OTVARANJA']).map({False:0, True:1})\n",
    "druga_faza['JEDNODNEVNI'] = jednodnevni"
   ]
  },
  {
   "cell_type": "markdown",
   "metadata": {},
   "source": [
    "**KaAMAT$E 0**"
   ]
  },
  {
   "cell_type": "code",
   "execution_count": 26,
   "metadata": {
    "collapsed": true
   },
   "outputs": [],
   "source": [
    "male_kamate  = (druga_faza['VISINA_KAMATE'] <= 0).map({False:0, True:1})\n",
    "druga_faza['KAMATE_NULA'] = male_kamate"
   ]
  },
  {
   "cell_type": "code",
   "execution_count": null,
   "metadata": {
    "collapsed": true
   },
   "outputs": [],
   "source": [
    "druga_faza = druga_faza.drop(['BDP','GDP' 'AVG_PLACA','FRANAK','EURO','PRICE_INDEX','DOLAR','NEZAPOSLENOST'], axis = 1)"
   ]
  },
  {
   "cell_type": "code",
   "execution_count": 67,
   "metadata": {
    "scrolled": true
   },
   "outputs": [
    {
     "name": "stdout",
     "output_type": "stream",
     "text": [
      "<class 'pandas.core.frame.DataFrame'>\n",
      "Index: 472689 entries, 0 to 472688\n",
      "Columns: 106 entries, Unnamed: 0 to KAMATE_NULA\n",
      "dtypes: datetime64[ns](4), float64(32), int64(22), object(4), uint8(44)\n",
      "memory usage: 267.0+ MB\n"
     ]
    }
   ],
   "source": [
    "druga_faza.info()"
   ]
  },
  {
   "cell_type": "markdown",
   "metadata": {},
   "source": [
    "# Outlieri"
   ]
  },
  {
   "cell_type": "markdown",
   "metadata": {},
   "source": [
    "**VISINA_KAMATE**"
   ]
  },
  {
   "cell_type": "code",
   "execution_count": 69,
   "metadata": {
    "scrolled": false
   },
   "outputs": [
    {
     "data": {
      "text/plain": [
       "<matplotlib.axes._subplots.AxesSubplot at 0x7f6bc0f379e8>"
      ]
     },
     "execution_count": 69,
     "metadata": {},
     "output_type": "execute_result"
    },
    {
     "data": {
      "image/png": "[encoded data removed]",
      "text/plain": [
       "<matplotlib.figure.Figure at 0x7f6bc0f37208>"
      ]
     },
     "metadata": {},
     "output_type": "display_data"
    }
   ],
   "source": [
    "seaborn.boxplot(druga_faza['VISINA_KAMATE'].astype(float))"
   ]
  },
  {
   "cell_type": "code",
   "execution_count": 27,
   "metadata": {
    "collapsed": true
   },
   "outputs": [],
   "source": [
    "druga_faza['VISINA_KAMATE'] = druga_faza['VISINA_KAMATE'].replace(72, np.nan)"
   ]
  },
  {
   "cell_type": "code",
   "execution_count": 28,
   "metadata": {
    "collapsed": true
   },
   "outputs": [],
   "source": [
    "druga_faza.to_csv('treca_faza.csv')"
   ]
  }
 ],
 "metadata": {
  "kernelspec": {
   "display_name": "Python 3",
   "language": "python",
   "name": "python3"
  },
  "language_info": {
   "codemirror_mode": {
    "name": "ipython",
    "version": 3
   },
   "file_extension": ".py",
   "mimetype": "text/x-python",
   "name": "python",
   "nbconvert_exporter": "python",
   "pygments_lexer": "ipython3",
   "version": "3.6.3"
  }
 },
 "nbformat": 4,
 "nbformat_minor": 2
}
