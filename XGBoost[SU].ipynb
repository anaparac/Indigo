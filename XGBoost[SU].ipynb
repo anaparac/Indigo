{
 "cells": [
  {
   "cell_type": "code",
   "execution_count": 1,
   "metadata": {
    "collapsed": true
   },
   "outputs": [],
   "source": [
    "import datetime as dt\n",
    "import pandas as pd\n",
    "import matplotlib.pyplot as plt\n",
    "import seaborn\n",
    "import numpy as np\n",
    "import collections\n",
    "import seaborn as sns\n",
    "from sklearn import metrics\n",
    "from sklearn.metrics import  mean_squared_error\n",
    "from sklearn.model_selection import train_test_split\n",
    "from sklearn.preprocessing import StandardScaler\n",
    "from sklearn.metrics import f1_score"
   ]
  },
  {
   "cell_type": "code",
   "execution_count": 2,
   "metadata": {
    "collapsed": true
   },
   "outputs": [],
   "source": [
    "import xgboost as xgb"
   ]
  },
  {
   "cell_type": "markdown",
   "metadata": {},
   "source": [
    "## Učitavanje podataka\n",
    "- učitavanje\n",
    "- odbacivanje stupaca koje ne koristimo u modelu"
   ]
  },
  {
   "cell_type": "code",
   "execution_count": 3,
   "metadata": {
    "collapsed": true
   },
   "outputs": [],
   "source": [
    "data = pd.read_csv(\"treca_faza.csv\", parse_dates=[2,5,6,7])"
   ]
  },
  {
   "cell_type": "code",
   "execution_count": 4,
   "metadata": {
    "collapsed": true
   },
   "outputs": [],
   "source": [
    "data = data.drop(['Unnamed: 0','Unnamed: 0.1','STANJE_NA_KRAJU_PRETH_KVARTALA', 'STANJE_NA_KRAJU_KVARTALA', 'KLIJENT_ID'], axis = 1)\n",
    "data = data.drop(['VRSTA_KLIJENTA', 'PROIZVOD', 'VALUTA'], axis = 1)\n",
    "data = data.drop(['DATUM_ZATVARANJA','DATUM_IZVJESTAVANJA', 'OZNAKA_PARTIJE', 'DATUM_OTVARANJA', 'PLANIRANI_DATUM_ZATVARANJA', 'TIP_KAMATE'], axis = 1)\n",
    "data = data.drop(['RATA'], axis = 1)\n",
    "\n",
    "data['VRSTA_PROIZVODA'] = data.VRSTA_PROIZVODA.map({'A':0,'L':1})"
   ]
  },
  {
   "cell_type": "code",
   "execution_count": 5,
   "metadata": {
    "collapsed": true
   },
   "outputs": [],
   "source": [
    "data = data.drop(['KAMATA_KVADART','KAMATA_IZNOS'], axis = 1)"
   ]
  },
  {
   "cell_type": "code",
   "execution_count": 6,
   "metadata": {
    "collapsed": true
   },
   "outputs": [],
   "source": [
    "X = data.iloc[:, ~data.columns.isin(['PRIJEVREMENI_RASKID','EURO_OTV','EURO_ZATV','DOLAR_OTV','DOLAR_ZATV','FRANAK_OTV','FRANAK_ZATV','PRICE_INDEX_ZATV','AVG_PLACA_ZATV', 'GDP_ZATV', 'NEZAPOSLENOST_ZATV','BDP_ZATV'])] #data[best]\n",
    "Y = data['PRIJEVREMENI_RASKID'].map({'N':0, 'Y':1})\n",
    "\n",
    "X = X.sort_index(axis=1)"
   ]
  },
  {
   "cell_type": "markdown",
   "metadata": {},
   "source": [
    "## Priprema test i train podataka"
   ]
  },
  {
   "cell_type": "code",
   "execution_count": 7,
   "metadata": {
    "collapsed": true
   },
   "outputs": [],
   "source": [
    "X_train, X_test, y_train, y_test = train_test_split(X, Y, test_size=0.2, random_state=123)"
   ]
  },
  {
   "cell_type": "markdown",
   "metadata": {},
   "source": [
    "## Instanciranje XGB klasifikatora"
   ]
  },
  {
   "cell_type": "code",
   "execution_count": 8,
   "metadata": {
    "collapsed": true
   },
   "outputs": [],
   "source": [
    "xg_reg = xgb.XGBClassifier(objective ='reg:linear', colsample_bytree = 0.7, learning_rate = 0.5,\n",
    "                max_depth = 8, alpha = 50, n_estimators = 60, seed = 42)"
   ]
  },
  {
   "cell_type": "code",
   "execution_count": 9,
   "metadata": {
    "scrolled": false
   },
   "outputs": [
    {
     "data": {
      "text/plain": [
       "XGBClassifier(alpha=50, base_score=0.5, booster='gbtree', colsample_bylevel=1,\n",
       "       colsample_bytree=0.7, gamma=0, learning_rate=0.5, max_delta_step=0,\n",
       "       max_depth=8, min_child_weight=1, missing=None, n_estimators=60,\n",
       "       n_jobs=1, nthread=None, objective='reg:linear', random_state=0,\n",
       "       reg_alpha=0, reg_lambda=1, scale_pos_weight=1, seed=42, silent=True,\n",
       "       subsample=1)"
      ]
     },
     "execution_count": 9,
     "metadata": {},
     "output_type": "execute_result"
    }
   ],
   "source": [
    "xg_reg.fit(X_train,y_train)"
   ]
  },
  {
   "cell_type": "markdown",
   "metadata": {},
   "source": [
    "# Selecting best features"
   ]
  },
  {
   "cell_type": "code",
   "execution_count": 10,
   "metadata": {
    "collapsed": true
   },
   "outputs": [],
   "source": [
    "importances = xg_reg.get_booster().get_score(importance_type='gain')\n",
    "sorted_x = sorted(importances.items(), key=lambda kv: kv[1], reverse=True)\n",
    "most_C = collections.Counter(importances).most_common(25)\n",
    "features = [x for x, _ in most_C]\n",
    "num = [x for _, x in most_C]"
   ]
  },
  {
   "cell_type": "code",
   "execution_count": 11,
   "metadata": {},
   "outputs": [
    {
     "data": {
      "text/plain": [
       "['VRSTA_PROIZVODA',\n",
       " 'POVIJEST_NEPRIJEVREMENIH',\n",
       " 'TM0109',\n",
       " 'POVIJEST_PRIJEVREMENIH',\n",
       " 'FL0900',\n",
       " 'ZATVARANJE',\n",
       " 'KAMATA_B',\n",
       " 'PRICE_INDEX_OTV',\n",
       " 'KAMATA_C',\n",
       " 'MJESECI',\n",
       " 'GDP_OTV',\n",
       " 'h',\n",
       " 'OTVARANJE',\n",
       " 'FL1100',\n",
       " 'VALUTA_1',\n",
       " 'FD0200',\n",
       " 'KAMATA_A',\n",
       " 'NADVRSTA',\n",
       " 'VISINA_KAMATE',\n",
       " 'AVG_PLACA_OTV',\n",
       " 'FL1202',\n",
       " 'FD0100',\n",
       " 'NEZAPOSLENOST_OTV',\n",
       " 'JEDNODNEVNI',\n",
       " 'l']"
      ]
     },
     "execution_count": 11,
     "metadata": {},
     "output_type": "execute_result"
    }
   ],
   "source": [
    "features"
   ]
  },
  {
   "cell_type": "code",
   "execution_count": 12,
   "metadata": {
    "scrolled": true
   },
   "outputs": [
    {
     "name": "stdout",
     "output_type": "stream",
     "text": [
      "Postotak varijabilnosti koji pokrivaju odabrane značajke:  0.9482734555610509\n"
     ]
    }
   ],
   "source": [
    "print('Postotak varijabilnosti koji pokrivaju odabrane značajke: ', sum(num)/sum(importances.values()))"
   ]
  },
  {
   "cell_type": "markdown",
   "metadata": {},
   "source": [
    "# Cross - validation"
   ]
  },
  {
   "cell_type": "code",
   "execution_count": 13,
   "metadata": {
    "scrolled": true
   },
   "outputs": [],
   "source": [
    "from sklearn.model_selection import KFold\n",
    "from sklearn.preprocessing import MinMaxScaler\n",
    "\n",
    "X = X_train[features]\n",
    "Y = y_train\n",
    "X = X.sort_index(axis=1)\n",
    "x = X.values\n",
    "Y = np.ravel(Y)\n",
    "\n",
    "xg_reg = xgb.XGBClassifier(objective ='binary:logistic', colsample_bytree = 0.7, learning_rate = 0.5,\n",
    "                max_depth = 8, alpha = 50, n_estimators = 40)\n",
    "\n",
    "accuracy_XGBoost = []\n",
    "f1_XGBoost = []\n",
    "predictions_XGBoost = []\n",
    "\n",
    "cv = KFold(n_splits=5, shuffle=True)\n",
    "\n",
    "for train_index, test_index in cv.split(x):\n",
    "    X_train1, X_test1, y_train1, y_test1 = x[[train_index]], x[[test_index]], Y[[train_index]], Y[[test_index]]\n",
    "    xg_reg.fit(X_train1, y_train1)\n",
    "    prediction = xg_reg.predict(X_test1)\n",
    "    accuracy_XGBoost.append(metrics.accuracy_score(prediction, y_test1))\n",
    "    f1_XGBoost.append(metrics.f1_score(prediction, y_test1))\n",
    "    "
   ]
  },
  {
   "cell_type": "code",
   "execution_count": 14,
   "metadata": {
    "scrolled": true
   },
   "outputs": [
    {
     "name": "stdout",
     "output_type": "stream",
     "text": [
      "Prosječna točnost:  0.896197553627\n"
     ]
    }
   ],
   "source": [
    "print('Prosječna točnost: ', sum(accuracy_XGBoost)/len(accuracy_XGBoost))"
   ]
  },
  {
   "cell_type": "code",
   "execution_count": 15,
   "metadata": {},
   "outputs": [
    {
     "name": "stdout",
     "output_type": "stream",
     "text": [
      "Prosječna F1 mjera:  0.887589163383\n"
     ]
    }
   ],
   "source": [
    "print('Prosječna F1 mjera: ', sum(f1_XGBoost)/len(f1_XGBoost))"
   ]
  },
  {
   "cell_type": "markdown",
   "metadata": {},
   "source": [
    "# Validacija\n",
    "- testiranje modela na test skupu, izdvojenom prije treniranja"
   ]
  },
  {
   "cell_type": "code",
   "execution_count": 16,
   "metadata": {},
   "outputs": [],
   "source": [
    "X = X_train[features]\n",
    "Y = y_train\n",
    "X = X.sort_index(axis=1)"
   ]
  },
  {
   "cell_type": "code",
   "execution_count": 17,
   "metadata": {
    "scrolled": true
   },
   "outputs": [
    {
     "data": {
      "text/plain": [
       "XGBClassifier(alpha=50, base_score=0.5, booster='gbtree', colsample_bylevel=1,\n",
       "       colsample_bytree=0.7, gamma=0, learning_rate=0.5, max_delta_step=0,\n",
       "       max_depth=8, min_child_weight=1, missing=None, n_estimators=40,\n",
       "       n_jobs=1, nthread=None, objective='binary:logistic', random_state=0,\n",
       "       reg_alpha=0, reg_lambda=1, scale_pos_weight=1, seed=None,\n",
       "       silent=True, subsample=1)"
      ]
     },
     "execution_count": 17,
     "metadata": {},
     "output_type": "execute_result"
    }
   ],
   "source": [
    "xg_reg.fit(X,Y)"
   ]
  },
  {
   "cell_type": "code",
   "execution_count": 18,
   "metadata": {},
   "outputs": [
    {
     "name": "stdout",
     "output_type": "stream",
     "text": [
      "Accuracy:  0.897289978633\n",
      "F1:  0.888339466421\n"
     ]
    }
   ],
   "source": [
    "X_test = X_test[features]\n",
    "X_test = X_test.sort_index(axis =1)\n",
    "\n",
    "\n",
    "predict_ = xg_reg.predict(X_test)\n",
    "print('Accuracy: ', metrics.accuracy_score(predict_, y_test))\n",
    "print('F1: ',metrics.f1_score(predict_, y_test))\n",
    "    "
   ]
  },
  {
   "cell_type": "markdown",
   "metadata": {},
   "source": [
    "# Matrica konfuzije\n",
    "- iscrtavanje matrice konfuzije na podacima dobivenim testiranjem na test setu"
   ]
  },
  {
   "cell_type": "code",
   "execution_count": 19,
   "metadata": {
    "collapsed": true
   },
   "outputs": [],
   "source": [
    "y_test = y_test.map({0:'Nisu prijevremeni', 1 : 'Prijevremeni'})\n",
    "predictione = pd.Series(predict_).map({0:'Nisu prijevremeni', 1 : 'Prijevremeni'}) "
   ]
  },
  {
   "cell_type": "code",
   "execution_count": 24,
   "metadata": {},
   "outputs": [
    {
     "data": {
      "text/plain": [
       "Text(33,0.5,'True')"
      ]
     },
     "execution_count": 24,
     "metadata": {},
     "output_type": "execute_result"
    },
    {
     "data": {
      "image/png": "[encoded data removed]",
      "text/plain": [
       "<matplotlib.figure.Figure at 0x7f455c947f98>"
      ]
     },
     "metadata": {},
     "output_type": "display_data"
    }
   ],
   "source": [
    "from sklearn.metrics import confusion_matrix\n",
    "%matplotlib inline\n",
    "\n",
    "labels = ['Prijevremeni', 'Nisu prijevremeni']\n",
    "tick_labels = ['Prijevremeni', 'Neprijevremeni']\n",
    "cm = confusion_matrix(y_test, predictione, labels)\n",
    "ax = sns.heatmap(cm, annot=True, fmt ='g', xticklabels = tick_labels, yticklabels = tick_labels ) \n",
    "ax.set_title(\"Matrica konfuzije\")\n",
    "ax.set_xlabel('Predicted')\n",
    "ax.set_ylabel('True')"
   ]
  },
  {
   "cell_type": "code",
   "execution_count": null,
   "metadata": {
    "collapsed": true
   },
   "outputs": [],
   "source": []
  }
 ],
 "metadata": {
  "kernelspec": {
   "display_name": "Python 3",
   "language": "python",
   "name": "python3"
  },
  "language_info": {
   "codemirror_mode": {
    "name": "ipython",
    "version": 3
   },
   "file_extension": ".py",
   "mimetype": "text/x-python",
   "name": "python",
   "nbconvert_exporter": "python",
   "pygments_lexer": "ipython3",
   "version": "3.6.3"
  }
 },
 "nbformat": 4,
 "nbformat_minor": 2
}
